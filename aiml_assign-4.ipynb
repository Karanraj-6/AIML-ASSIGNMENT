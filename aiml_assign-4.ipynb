{
  "nbformat": 4,
  "nbformat_minor": 0,
  "metadata": {
    "colab": {
      "provenance": []
    },
    "kernelspec": {
      "name": "python3",
      "display_name": "Python 3"
    },
    "language_info": {
      "name": "python"
    }
  },
  "cells": [
    {
      "cell_type": "code",
      "execution_count": 3,
      "metadata": {
        "colab": {
          "base_uri": "https://localhost:8080/"
        },
        "id": "8cTrG01UGlXJ",
        "outputId": "aa1574fa-b379-4d77-c65e-d3df457bf726"
      },
      "outputs": [
        {
          "output_type": "stream",
          "name": "stdout",
          "text": [
            "          longitude      latitude  housing_median_age   total_rooms  \\\n",
            "count  20640.000000  20640.000000        20640.000000  20640.000000   \n",
            "mean    -119.569704     35.631861           28.639486   2635.763081   \n",
            "std        2.003532      2.135952           12.585558   2181.615252   \n",
            "min     -124.350000     32.540000            1.000000      2.000000   \n",
            "25%     -121.800000     33.930000           18.000000   1447.750000   \n",
            "50%     -118.490000     34.260000           29.000000   2127.000000   \n",
            "75%     -118.010000     37.710000           37.000000   3148.000000   \n",
            "max     -114.310000     41.950000           52.000000  39320.000000   \n",
            "\n",
            "       total_bedrooms    population    households  median_income  \\\n",
            "count    20433.000000  20640.000000  20640.000000   20640.000000   \n",
            "mean       537.870553   1425.476744    499.539680       3.870671   \n",
            "std        421.385070   1132.462122    382.329753       1.899822   \n",
            "min          1.000000      3.000000      1.000000       0.499900   \n",
            "25%        296.000000    787.000000    280.000000       2.563400   \n",
            "50%        435.000000   1166.000000    409.000000       3.534800   \n",
            "75%        647.000000   1725.000000    605.000000       4.743250   \n",
            "max       6445.000000  35682.000000   6082.000000      15.000100   \n",
            "\n",
            "       median_house_value  \n",
            "count        20640.000000  \n",
            "mean        206855.816909  \n",
            "std         115395.615874  \n",
            "min          14999.000000  \n",
            "25%         119600.000000  \n",
            "50%         179700.000000  \n",
            "75%         264725.000000  \n",
            "max         500001.000000  \n",
            "longitude             float64\n",
            "latitude              float64\n",
            "housing_median_age    float64\n",
            "total_rooms           float64\n",
            "total_bedrooms        float64\n",
            "population            float64\n",
            "households            float64\n",
            "median_income         float64\n",
            "median_house_value    float64\n",
            "ocean_proximity        object\n",
            "dtype: object\n",
            "(20640, 10)\n",
            "   longitude  latitude  housing_median_age  total_rooms  total_bedrooms  \\\n",
            "0   0.729084  0.017021            0.627451     0.079455        0.097145   \n",
            "1   0.616534  0.129787            0.941176     0.085966        0.121974   \n",
            "2   0.385458  0.224468            0.058824     0.048197        0.051210   \n",
            "3   0.721116  0.014894            0.686275     0.036090        0.056797   \n",
            "4   0.453187  0.450000            0.823529     0.060532        0.066729   \n",
            "\n",
            "   population  households  median_income  median_house_value  \n",
            "0    0.064380    0.102286       0.190322            0.181445  \n",
            "1    0.036744    0.124157       0.228452            0.756906  \n",
            "2    0.025561    0.055090       0.252162            0.324949  \n",
            "3    0.039659    0.058214       0.099488            0.161651  \n",
            "4    0.024412    0.062325       0.210638            0.168043  \n"
          ]
        },
        {
          "output_type": "stream",
          "name": "stderr",
          "text": [
            "<ipython-input-3-ed9101b7be33>:15: FutureWarning: The default value of numeric_only in DataFrame.mean is deprecated. In a future version, it will default to False. In addition, specifying 'numeric_only=None' is deprecated. Select only valid columns or specify the value of numeric_only to silence this warning.\n",
            "  df = df.fillna(df.mean())\n"
          ]
        }
      ],
      "source": [
        "import pandas as pd\n",
        "from sklearn.model_selection import train_test_split\n",
        "from sklearn.preprocessing import MinMaxScaler\n",
        "\n",
        "# a) Read the data with pandas and describe the data\n",
        "df = pd.read_csv('housing.csv')\n",
        "print(df.describe())\n",
        "\n",
        "# b) Find data type and shape of each column\n",
        "print(df.dtypes)\n",
        "print(df.shape)\n",
        "\n",
        "# c) Find the null values (if yes fill the null values with '0' or mean of that column)\n",
        "if df.isnull().values.any():\n",
        "    df = df.fillna(df.mean())\n",
        "\n",
        "# d) Find features and target variables\n",
        "# Assuming the target variable is the last column\n",
        "features = df.iloc[:, :-1]\n",
        "target = df.iloc[:, -1]\n",
        "\n",
        "# e) Split the data into train and test.\n",
        "X_train, X_test, y_train, y_test = train_test_split(features, target, test_size=0.2, random_state=42)\n",
        "\n",
        "# f) Normalize the data with min-max scaling\n",
        "scaler = MinMaxScaler()\n",
        "X_train_scaled = scaler.fit_transform(X_train)\n",
        "X_test_scaled = scaler.transform(X_test)\n",
        "\n",
        "# Display the first few entries of the scaled features\n",
        "print(pd.DataFrame(X_train_scaled, columns=features.columns).head())\n"
      ]
    }
  ]
}